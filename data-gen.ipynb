{
 "cells": [
  {
   "cell_type": "markdown",
   "metadata": {},
   "source": [
    "# Analítica computacional para la toma de decisiones\n",
    "\n",
    "Departamento de Ingeniería Industrial\n",
    "\n",
    "Universidad de los Andes"
   ]
  },
  {
   "cell_type": "markdown",
   "metadata": {},
   "source": [
    "Generación de muestras de una variable aleatoria normal usando numpy."
   ]
  },
  {
   "cell_type": "code",
   "execution_count": 1,
   "metadata": {},
   "outputs": [
    {
     "name": "stdout",
     "output_type": "stream",
     "text": [
      "[3.96001746 2.31926846 2.40652212 2.10400052 3.84035756 3.79548894\n",
      " 1.46400597 3.36421973 3.5200721  3.10468675 3.66645245 3.19109356\n",
      " 3.01547492 1.82108585 2.97388781 3.49573114 2.97271143 2.9472117\n",
      " 3.85609046 3.57541635 1.46383675 3.10289038 3.96981752 2.69942761\n",
      " 2.75577108 2.90701998 2.86669988 3.29395598 2.38874113 2.18624495\n",
      " 2.69984849 3.04686253 3.30146815 2.44696383 2.68139996 2.08664343\n",
      " 2.23868756 2.64542375 3.46083446 3.22242137 3.74903978 2.86994503\n",
      " 2.66985171 1.71621441 2.63026965 3.36968545 2.54641454 3.77716137\n",
      " 3.2814349  2.99886922 3.13087882 2.69878253 2.12209303 1.66472337\n",
      " 3.12883339 2.30510062 2.84003696 2.34848699 4.0804514  3.21594562\n",
      " 2.81318635 3.11342701 2.37295232 2.26058657 2.39054468 3.42957992\n",
      " 3.15344898 2.94526978 2.87397674 2.94429133 3.32679667 3.59102104\n",
      " 2.28782839 3.37829573 2.82575909 3.47602733 4.26100133 3.11914824\n",
      " 1.73294992 2.81128831 3.32153616 3.3882397  3.10003875 1.86875106\n",
      " 2.2540648  2.89172096 4.07522576 3.26509084 2.73199417 2.41249567\n",
      " 3.61553603 2.94874831 2.89838834 2.86104381 2.34390144 4.58756797\n",
      " 3.67680521 2.95302497 3.39801537 3.58566685 3.28289405 3.04371215\n",
      " 2.4331104  2.81139835 2.95350362 3.0977924  2.79279449 2.84494825\n",
      " 2.33251648 2.80070148 2.06177706 3.62225412 3.32669584 2.85496754\n",
      " 2.52446018 3.83839857 2.55332421 3.29710822 3.05272232 2.8096887\n",
      " 2.3102399  2.6774811  3.47487398 2.33142268 2.52968092 2.65937749\n",
      " 3.0563439  2.60404448 3.71357917 2.82324154 2.51263251 3.02997955\n",
      " 3.14129875 2.83650979 2.14755098 3.82839474 3.41551747 4.5080017\n",
      " 2.44772863 2.93166447 2.90901401 2.80045808 2.824125   3.42212828\n",
      " 2.36319288 3.55668873 2.70813955 2.36046792 1.836503   3.19384019\n",
      " 3.69660426 3.45037811 2.97968608 3.48932893 3.79949169 2.38686471\n",
      " 2.63974892 2.35796064 4.57332738 4.12608939 2.96023476 2.42415209\n",
      " 3.00889929 3.1659744  3.74337827 3.22831082 1.55487719 2.88034545\n",
      " 3.537861   3.5813087  4.01443666 2.17150407 2.79857999 4.07899432\n",
      " 2.09424566 3.0699633  2.43072366 3.74080963 2.53556252 2.51457408\n",
      " 2.28709676 2.69170094 2.56218459 3.58271346 2.56220239 2.87877393\n",
      " 2.36517312 2.56813765 3.12746506 2.97492864 2.10966546 2.00723001\n",
      " 3.52436929 2.81150266 1.98247344 3.526792   2.64776314 2.82186437\n",
      " 3.221472   2.45534666 2.98793012 2.20257951 3.87922688 3.4887149\n",
      " 3.16226231 3.18669036 2.47650463 3.10429373 2.35115135 3.77188212\n",
      " 3.62155731 2.71713744 2.1613707  3.22285562 3.61692512 2.98895437\n",
      " 3.16713567 3.21455005 2.8587041  2.68233141 1.7138647  2.45128653\n",
      " 2.74172949 3.42793296 3.54751582 2.99393535 1.93316566 2.75902997\n",
      " 2.87705358 2.33305836 3.07981571 3.39887517 3.30694398 2.221547\n",
      " 3.57388153 2.51626648 4.53667281 2.75452805 2.64573699 2.97693694\n",
      " 3.56081955 2.05162526 3.0252609  3.27454924 3.61730307 2.24314398\n",
      " 2.44223243 3.21732528 3.76351461 1.95800388 2.66976941 3.74998334\n",
      " 2.1886502  2.9094     3.48195968 3.26924591 3.40248695 3.16547764\n",
      " 2.48144881 2.95268594 2.08434938 3.74645968 2.77707224 3.41035419\n",
      " 2.01744364 3.11328934 3.85740562 3.05129513 2.88471246 3.49216973\n",
      " 2.12694538 3.19921152 3.89094288 2.78223265 2.51217719 2.75012807\n",
      " 3.1143317  2.53381165 2.70512749 2.24693698 1.83657161 2.83714889\n",
      " 2.4605585  3.74101218 3.68276892 2.78094487 3.18754354 3.33059186\n",
      " 2.9785001  3.34843427 2.6310548  3.06614997 3.12263926 3.55389805\n",
      " 2.50802259 2.32946454 3.40911775 2.58075919 2.65901394 3.25681699\n",
      " 2.8866524  3.95513298 2.39296494 3.33788437 2.68515112 2.25795927\n",
      " 2.44306317 4.42220156 3.77814371 2.63841943 3.25486018 3.43849971\n",
      " 2.94051175 2.62170808 2.30136644 2.77078024 2.82250955 3.77118871\n",
      " 2.20460914 2.63312625 2.90486536 1.87691162 1.91707223 2.90155851\n",
      " 2.7625694  3.59209042 1.90658857 3.03068452 2.88961172 4.06808225\n",
      " 3.07850293 3.49272917 2.40713203 2.60976243 2.05993605 2.2899014\n",
      " 2.63727422 3.06815021 3.05819028 3.07991785 3.38200934 3.43353657\n",
      " 3.02341912 3.90814917 2.32527097 3.43673423 3.36344846 1.83180783\n",
      " 3.06437494 3.55930224 2.65476523 3.66286116 3.18343614 2.28469076\n",
      " 2.95844085 2.65904198 2.50154799 3.05868301 3.27430644 2.6635586\n",
      " 3.94283102 2.9274903  3.12014369 2.15683886 3.66212584 3.83953674\n",
      " 3.94927683 3.64457007 2.24795594 3.93506874 2.1739005  3.91353807\n",
      " 2.38875743 3.03753073 2.26214591 3.61436187 2.73591108 3.02269\n",
      " 3.07392719 3.11542337 2.45148161 2.10922819 2.94102061 3.24148722\n",
      " 2.80156465 3.03769724 3.35815988 3.4682867  2.4255937  3.37964886\n",
      " 2.46486983 2.37062056 1.94550088 2.70173111 2.63892625 2.25785283\n",
      " 3.2294598  2.9374002  2.9307145  2.20824841 3.57180962 3.70549967\n",
      " 2.49081199 2.60303971 2.84920062 2.8696366  3.4173466  3.55358244\n",
      " 3.49830216 3.48994632 3.04484407 2.85266122 2.74340909 4.01026358\n",
      " 3.50250339 3.02544904 3.29425491 2.78773988 2.98246398 3.37355935\n",
      " 3.12676132 2.37495829 2.9451651  3.1867938  2.92063968 3.06869039\n",
      " 3.70755021 3.05824051 3.75492974 2.28738846 1.61147991 2.97629031\n",
      " 2.38313281 2.54094696 2.106511   3.73099922 3.60316684 2.7920433\n",
      " 3.27499769 3.48665108 2.42867045 3.44026094 3.08177944 2.69723288\n",
      " 2.99837556 2.44764859 4.34531525 2.55363298 3.09123579 3.03127807\n",
      " 2.90022117 4.38917601 2.37797774 2.87310391 3.72044583 4.03869505\n",
      " 3.1666244  2.79802571 3.30616247 2.5710235  2.54465593 3.41304107\n",
      " 2.41300525 3.05683204 3.27787513 2.33486841 2.39288928 3.72137253\n",
      " 2.29722466 4.20296994 2.6919899  2.97661035 2.75638712 3.87273653\n",
      " 2.30527257 3.87366703 2.77874758 3.35780699 2.9145923  3.44110776\n",
      " 1.86325402 2.23864773 3.56388837 3.61258573 2.25740134 2.96937516\n",
      " 3.01762225 2.59678898 3.40555049 3.19228422 1.94894932 3.37260079\n",
      " 3.6280938  3.01103294 3.68079    2.62800652 2.4995173  2.63859117\n",
      " 3.40345718 3.71188312]\n"
     ]
    }
   ],
   "source": [
    "import numpy as np\n",
    "\n",
    "mu = 3\n",
    "sigma = 0.6\n",
    "n=500\n",
    "vals = np.random.normal(loc=mu, scale=sigma, size=n)\n",
    "print(vals)\n",
    "\n"
   ]
  },
  {
   "cell_type": "markdown",
   "metadata": {},
   "source": [
    "Cálculo de estadísticas usando pandas."
   ]
  },
  {
   "cell_type": "code",
   "execution_count": null,
   "metadata": {},
   "outputs": [],
   "source": [
    "import pandas as pd\n",
    "\n",
    "df = pd.DataFrame(vals)\n",
    "print(df.describe())"
   ]
  },
  {
   "cell_type": "markdown",
   "metadata": {},
   "source": [
    "Generación de histograma usando matplotlib."
   ]
  },
  {
   "cell_type": "code",
   "execution_count": null,
   "metadata": {},
   "outputs": [],
   "source": [
    "import matplotlib.pyplot as plt\n",
    "count, bins, ignored = plt.hist(x=vals, bins=30)\n",
    "plt.title('Histograma de tiempos de servicio')\n",
    "plt.xlabel('Tiempos de servicio')\n",
    "plt.ylabel('Frecuencia')\n",
    "plt.show()\n",
    "\n",
    "print(bins)\n",
    "print(count)"
   ]
  },
  {
   "cell_type": "markdown",
   "metadata": {},
   "source": [
    "Densidad normal estándar."
   ]
  },
  {
   "cell_type": "code",
   "execution_count": null,
   "metadata": {},
   "outputs": [],
   "source": [
    "from scipy.stats import norm\n",
    "import numpy as np\n",
    "import matplotlib.pyplot as plt\n",
    "\n",
    "# Normal (mu=0, sigma=1)\n",
    "x= np.arange(-4,4,0.001)\n",
    "plt.plot(x, norm.pdf(x))\n",
    "plt.title('Función de densidad normal estándar')\n",
    "plt.xlabel('Valores')\n",
    "plt.ylabel('Densidad')\n",
    "plt.show()\n"
   ]
  },
  {
   "cell_type": "markdown",
   "metadata": {},
   "source": [
    "Densidad normal con media 3 y desviación estándar 1."
   ]
  },
  {
   "cell_type": "code",
   "execution_count": null,
   "metadata": {},
   "outputs": [],
   "source": [
    "from scipy.stats import norm\n",
    "import numpy as np\n",
    "import matplotlib.pyplot as plt\n",
    "\n",
    "# Normal (mu=3, sigma=1)\n",
    "x= np.arange(0,6,0.001)\n",
    "plt.plot(x, norm.pdf(x,loc=3))\n",
    "plt.title('Función de densidad normal(mu=3, sigma=1)')\n",
    "plt.xlabel('Valores')\n",
    "plt.ylabel('Densidad')\n",
    "plt.show()"
   ]
  },
  {
   "cell_type": "markdown",
   "metadata": {},
   "source": [
    "Densidad normal con media 3 y desviación estándar 0.5."
   ]
  },
  {
   "cell_type": "code",
   "execution_count": null,
   "metadata": {},
   "outputs": [],
   "source": [
    "from scipy.stats import norm\n",
    "import numpy as np\n",
    "import matplotlib.pyplot as plt\n",
    "\n",
    "# Normal (mu=0, sigma=1)\n",
    "x= np.arange(0,6,0.001)\n",
    "plt.plot(x, norm.pdf(x,loc=3,scale=0.5))\n",
    "plt.title('Función de densidad normal(mu=3, sigma=0.5)')\n",
    "plt.xlabel('Valores')\n",
    "plt.ylabel('Densidad')\n",
    "plt.show()"
   ]
  },
  {
   "cell_type": "markdown",
   "metadata": {},
   "source": [
    "QQ plot usando statsmodels. "
   ]
  },
  {
   "cell_type": "code",
   "execution_count": null,
   "metadata": {},
   "outputs": [],
   "source": [
    "import statsmodels.api as sm\n",
    "import scipy.stats as stats\n",
    "fig = sm.qqplot(data = vals, dist=stats.norm, loc=3, scale=0.5, line=\"45\")\n",
    "plt.show()"
   ]
  },
  {
   "cell_type": "markdown",
   "metadata": {},
   "source": [
    "QQ plot contra normal con media 3 y desviación estándar 1."
   ]
  },
  {
   "cell_type": "code",
   "execution_count": null,
   "metadata": {},
   "outputs": [],
   "source": [
    "import statsmodels.api as sm\n",
    "import scipy.stats as stats\n",
    "fig = sm.qqplot(data = vals, dist=stats.norm, loc=3, scale=1, line=\"45\")\n",
    "plt.show()"
   ]
  },
  {
   "cell_type": "markdown",
   "metadata": {},
   "source": [
    "QQ plot contra normal con media 0 y desviación estándar 1."
   ]
  },
  {
   "cell_type": "code",
   "execution_count": null,
   "metadata": {},
   "outputs": [],
   "source": [
    "import statsmodels.api as sm\n",
    "import scipy.stats as stats\n",
    "fig = sm.qqplot(data = vals, dist=stats.norm, loc=0, scale=1, line=\"45\")\n",
    "plt.show()"
   ]
  },
  {
   "cell_type": "code",
   "execution_count": null,
   "metadata": {},
   "outputs": [],
   "source": [
    "import matplotlib.pyplot as plt\n",
    "# histograma\n",
    "count, bins, ignored = plt.hist(x=vals, bins=30, density=True)\n",
    "\n",
    "# densidad normal(3, 0.5)\n",
    "x= np.arange(1,5,0.001)\n",
    "plt.plot(x, norm.pdf(x,loc=3,scale=0.5))\n",
    "\n",
    "plt.title('Tiempos de servicio')\n",
    "plt.xlabel('Valores')\n",
    "plt.ylabel('Densidad')\n",
    "plt.show()"
   ]
  }
 ],
 "metadata": {
  "kernelspec": {
   "display_name": "Python 3",
   "language": "python",
   "name": "python3"
  },
  "language_info": {
   "codemirror_mode": {
    "name": "ipython",
    "version": 3
   },
   "file_extension": ".py",
   "mimetype": "text/x-python",
   "name": "python",
   "nbconvert_exporter": "python",
   "pygments_lexer": "ipython3",
   "version": "3.11.9"
  },
  "orig_nbformat": 4
 },
 "nbformat": 4,
 "nbformat_minor": 2
}
